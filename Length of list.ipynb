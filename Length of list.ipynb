{
 "cells": [
  {
   "cell_type": "code",
   "execution_count": 3,
   "id": "67a88dcb",
   "metadata": {},
   "outputs": [
    {
     "name": "stdout",
     "output_type": "stream",
     "text": [
      "The number of fruits are 6\n"
     ]
    }
   ],
   "source": [
    "#Write a program which print the length of the list\n",
    "Fruits_List=[\"Mango\",\"Apple\",\"Banana\",\"Guava\",\"Pineapple\",\"Orange\"]\n",
    "print(\"The number of fruits are\",len(Fruits_List))"
   ]
  },
  {
   "cell_type": "code",
   "execution_count": null,
   "id": "5beb9579",
   "metadata": {},
   "outputs": [],
   "source": []
  }
 ],
 "metadata": {
  "kernelspec": {
   "display_name": "Python 3",
   "language": "python",
   "name": "python3"
  },
  "language_info": {
   "codemirror_mode": {
    "name": "ipython",
    "version": 3
   },
   "file_extension": ".py",
   "mimetype": "text/x-python",
   "name": "python",
   "nbconvert_exporter": "python",
   "pygments_lexer": "ipython3",
   "version": "3.8.8"
  }
 },
 "nbformat": 4,
 "nbformat_minor": 5
}
