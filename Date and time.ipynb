{
 "cells": [
  {
   "cell_type": "code",
   "execution_count": null,
   "id": "a9773abe",
   "metadata": {},
   "outputs": [],
   "source": [
    "#Write a python program to diplay current date and time."
   ]
  },
  {
   "cell_type": "code",
   "execution_count": 9,
   "id": "55b1690f",
   "metadata": {},
   "outputs": [
    {
     "name": "stdout",
     "output_type": "stream",
     "text": [
      "Today's date: 2021-10-23\n"
     ]
    }
   ],
   "source": [
    "#This program only displays date\n",
    "from datetime import date\n",
    "\n",
    "today = date.today()\n",
    "print(\"Today's date:\", today)\n",
    "\n"
   ]
  },
  {
   "cell_type": "code",
   "execution_count": 28,
   "id": "fd5086f8",
   "metadata": {},
   "outputs": [
    {
     "name": "stdout",
     "output_type": "stream",
     "text": [
      "Current Time = 19:52:30\n"
     ]
    }
   ],
   "source": [
    "#This program only displays time\n",
    "from datetime import datetime\n",
    "now = datetime.now()\n",
    "current_time = now.strftime(\"%H:%M:%S\")\n",
    "print(\"Current Time =\", current_time)"
   ]
  },
  {
   "cell_type": "code",
   "execution_count": 26,
   "id": "12ccd7c0",
   "metadata": {},
   "outputs": [
    {
     "name": "stdout",
     "output_type": "stream",
     "text": [
      "The date and time today is 2021-10-23 19:51:29.213746\n",
      "2021-10-23 19:51:29.213746\n"
     ]
    }
   ],
   "source": [
    "#This program displays bothe date and time\n",
    "import datetime as dt\n",
    "current_datetime= dt.datetime.now()\n",
    "print(\"The date and time today is\",current_datetime)"
   ]
  },
  {
   "cell_type": "code",
   "execution_count": null,
   "id": "6d692eae",
   "metadata": {},
   "outputs": [],
   "source": []
  }
 ],
 "metadata": {
  "kernelspec": {
   "display_name": "Python 3",
   "language": "python",
   "name": "python3"
  },
  "language_info": {
   "codemirror_mode": {
    "name": "ipython",
    "version": 3
   },
   "file_extension": ".py",
   "mimetype": "text/x-python",
   "name": "python",
   "nbconvert_exporter": "python",
   "pygments_lexer": "ipython3",
   "version": "3.8.8"
  }
 },
 "nbformat": 4,
 "nbformat_minor": 5
}
