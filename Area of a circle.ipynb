{
 "cells": [
  {
   "cell_type": "code",
   "execution_count": 3,
   "id": "5e3a5618",
   "metadata": {},
   "outputs": [
    {
     "name": "stdout",
     "output_type": "stream",
     "text": [
      "2\n",
      "The user entered radius of a circle: 2\n",
      "The area of a circle is found to be: 12.568\n"
     ]
    }
   ],
   "source": [
    "#Write a program which accepts radius of circle from the user than compute the area.\n",
    "PI = 3.142\n",
    "r = int(input())\n",
    "Area = PI*r*r\n",
    "print(\"The user entered radius of a circle:\",r)\n",
    "print(\"The area of a circle is found to be:\",Area)"
   ]
  },
  {
   "cell_type": "code",
   "execution_count": null,
   "id": "b0b6bf75",
   "metadata": {},
   "outputs": [],
   "source": []
  }
 ],
 "metadata": {
  "kernelspec": {
   "display_name": "Python 3",
   "language": "python",
   "name": "python3"
  },
  "language_info": {
   "codemirror_mode": {
    "name": "ipython",
    "version": 3
   },
   "file_extension": ".py",
   "mimetype": "text/x-python",
   "name": "python",
   "nbconvert_exporter": "python",
   "pygments_lexer": "ipython3",
   "version": "3.8.8"
  }
 },
 "nbformat": 4,
 "nbformat_minor": 5
}
