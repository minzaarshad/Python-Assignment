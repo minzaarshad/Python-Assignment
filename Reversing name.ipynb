{
 "cells": [
  {
   "cell_type": "code",
   "execution_count": 11,
   "id": "d244759d",
   "metadata": {},
   "outputs": [
    {
     "name": "stdout",
     "output_type": "stream",
     "text": [
      "Minza\n",
      "Arshad\n",
      "Minza Arshad\n",
      "['d', 'a', 'h', 's', 'r', 'A', ' ', 'a', 'z', 'n', 'i', 'M']\n"
     ]
    }
   ],
   "source": [
    "#Write a Python program which accepts the user's first and last name and print them in  reverse order with a space between them.\n",
    "first_name = input()\n",
    "last_name = input()\n",
    "name= first_name +\" \" + last_name\n",
    "print(name)\n",
    "print(list(reversed(name)))"
   ]
  }
 ],
 "metadata": {
  "kernelspec": {
   "display_name": "Python 3",
   "language": "python",
   "name": "python3"
  },
  "language_info": {
   "codemirror_mode": {
    "name": "ipython",
    "version": 3
   },
   "file_extension": ".py",
   "mimetype": "text/x-python",
   "name": "python",
   "nbconvert_exporter": "python",
   "pygments_lexer": "ipython3",
   "version": "3.8.8"
  }
 },
 "nbformat": 4,
 "nbformat_minor": 5
}
