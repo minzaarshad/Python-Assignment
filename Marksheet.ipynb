{
 "cells": [
  {
   "cell_type": "code",
   "execution_count": 3,
   "id": "6f23cf29",
   "metadata": {},
   "outputs": [
    {
     "name": "stdout",
     "output_type": "stream",
     "text": [
      "55\n",
      "65\n",
      "99\n",
      "89\n",
      "75\n",
      "The marks obtained in each subject i.e English, Islamiat, Mathematics, Physics and Chemistry are 55 65 99 89 75 respectively.\n",
      "The total marks obtained are 383\n",
      "The percentage is 76.6\n",
      "The grade is C\n"
     ]
    }
   ],
   "source": [
    "#Write a program which takes 5 inputs from user for different subject’s marks, total it  and generate mark sheet using grades\n",
    "Eng = int(input())\n",
    "Isl = int(input())\n",
    "Maths = int(input())\n",
    "Physics = int(input())\n",
    "Chemistry = int(input())\n",
    "print(\"The marks obtained in each subject i.e English, Islamiat, Mathematics, Physics and Chemistry are\" , Eng , Isl , Maths , Physics , Chemistry, \"respectively.\")\n",
    "Marks_Obtained = Eng+Isl+Maths+Physics+Chemistry\n",
    "print(\"The total marks obtained are\" , Marks_Obtained)\n",
    "Total_Marks = 500\n",
    "Percentage = (Marks_Obtained*100)/Total_Marks\n",
    "print(\"The percentage is\" , Percentage)\n",
    "if (Percentage > 90 and Percentage < 100):\n",
    "   print(\"The grade is A+\")\n",
    "elif (Percentage > 80 and Percentage < 90):\n",
    "   print(\"The grade is B\")\n",
    "elif (Percentage>70 and Percentage<80):\n",
    "   print(\"The grade is C\")\n",
    "elif (Percentage>60 and Percentage<70):\n",
    "   print(\"The grade is D\")\n",
    "elif Percentage<60:\n",
    "   print(\"Below 60% is fail\")"
   ]
  },
  {
   "cell_type": "code",
   "execution_count": null,
   "id": "4d19c88f",
   "metadata": {},
   "outputs": [],
   "source": []
  }
 ],
 "metadata": {
  "kernelspec": {
   "display_name": "Python 3",
   "language": "python",
   "name": "python3"
  },
  "language_info": {
   "codemirror_mode": {
    "name": "ipython",
    "version": 3
   },
   "file_extension": ".py",
   "mimetype": "text/x-python",
   "name": "python",
   "nbconvert_exporter": "python",
   "pygments_lexer": "ipython3",
   "version": "3.8.8"
  }
 },
 "nbformat": 4,
 "nbformat_minor": 5
}
