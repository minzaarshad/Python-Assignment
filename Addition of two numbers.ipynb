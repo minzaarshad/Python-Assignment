{
 "cells": [
  {
   "cell_type": "code",
   "execution_count": 3,
   "id": "71ce0462",
   "metadata": {},
   "outputs": [
    {
     "name": "stdout",
     "output_type": "stream",
     "text": [
      "2\n",
      "3\n",
      "The two numbers entered are 2 and 3 respectively.\n",
      "The addition of two numbers entered is: 5\n"
     ]
    }
   ],
   "source": [
    "#Write a python program which takes two inputs from user and print them addition    \n",
    "a= int(input())\n",
    "b= int(input())\n",
    "sum= a+b\n",
    "print(\"The two numbers entered are\", a, \"and\", b, \"respectively.\")\n",
    "print(\"The addition of two numbers entered is:\",sum)"
   ]
  },
  {
   "cell_type": "code",
   "execution_count": null,
   "id": "7fe56985",
   "metadata": {},
   "outputs": [],
   "source": []
  }
 ],
 "metadata": {
  "kernelspec": {
   "display_name": "Python 3",
   "language": "python",
   "name": "python3"
  },
  "language_info": {
   "codemirror_mode": {
    "name": "ipython",
    "version": 3
   },
   "file_extension": ".py",
   "mimetype": "text/x-python",
   "name": "python",
   "nbconvert_exporter": "python",
   "pygments_lexer": "ipython3",
   "version": "3.8.8"
  }
 },
 "nbformat": 4,
 "nbformat_minor": 5
}
